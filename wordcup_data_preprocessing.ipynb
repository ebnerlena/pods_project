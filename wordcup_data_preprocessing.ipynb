{
 "cells": [
  {
   "cell_type": "markdown",
   "metadata": {},
   "source": [
    "# Preprocessing of WorldCupDataset"
   ]
  },
  {
   "cell_type": "code",
   "execution_count": 1,
   "metadata": {},
   "outputs": [
    {
     "name": "stderr",
     "output_type": "stream",
     "text": [
      "UsageError: Line magic function `%` not found.\n"
     ]
    }
   ],
   "source": [
    "# install needed dependencies\n",
    "% pip install pandas matplotlib seaborn networkx"
   ]
  },
  {
   "cell_type": "code",
   "execution_count": 2,
   "metadata": {},
   "outputs": [],
   "source": [
    "# load data\n",
    "\n",
    "import pandas as pd\n",
    "import matplotlib.pyplot as plt\n",
    "import seaborn as sns\n",
    "\n",
    "france_file_path = \"./WorldCupDataset/Teams/France.csv\"\n",
    "france_data = pd.read_csv(france_file_path)\n",
    "\n",
    "croatia_file_path = \"./WorldCupDataset/Teams/Croatia.csv\"\n",
    "croatia_data = pd.read_csv(croatia_file_path)"
   ]
  },
  {
   "cell_type": "code",
   "execution_count": 21,
   "metadata": {},
   "outputs": [
    {
     "name": "stdout",
     "output_type": "stream",
     "text": [
      "Action types with None duration:\n",
      "Series([], Name: action, dtype: int64)\n",
      "\n",
      "Action types total count:\n",
      "Pass              3714\n",
      "Ball Recovery      259\n",
      "Shot               124\n",
      "Dribble            108\n",
      "Pressure           104\n",
      "Miscontrol          73\n",
      "Foul Committed      56\n",
      "Interception        22\n",
      "Block               17\n",
      "Clearance            8\n",
      "Offside              1\n",
      "Shield               1\n",
      "Name: action, dtype: int64\n"
     ]
    }
   ],
   "source": [
    "\n",
    "# Filter rows where duration is None\n",
    "missing_duration_actions = croatia_data[croatia_data['duration'].isnull()]\n",
    "\n",
    "# Print the action types with missing duration\n",
    "print(\"Action types with None duration:\")\n",
    "print(missing_duration_actions['action'].value_counts())\n",
    "print(\"\\nAction types total count:\")\n",
    "print(croatia_data['action'].value_counts())\n",
    "\n",
    "# i don't know how to deal with missing duration, so i just set them to 0\n",
    "croatia_data['duration'].fillna(0, inplace=True)\n",
    "\n",
    "# then i set the missing end time to the start time where the duration is 0\n",
    "croatia_data['endTime'].fillna(croatia_data['startTime'], inplace=True)\n",
    "\n",
    "croatia_data.to_csv(\"croatia_without_none_duration.csv\", index=False)"
   ]
  }
 ],
 "metadata": {
  "kernelspec": {
   "display_name": "Python 3",
   "language": "python",
   "name": "python3"
  },
  "language_info": {
   "codemirror_mode": {
    "name": "ipython",
    "version": 3
   },
   "file_extension": ".py",
   "mimetype": "text/x-python",
   "name": "python",
   "nbconvert_exporter": "python",
   "pygments_lexer": "ipython3",
   "version": "3.11.5"
  }
 },
 "nbformat": 4,
 "nbformat_minor": 2
}
